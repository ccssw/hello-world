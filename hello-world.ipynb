{
 "cells": [
  {
   "cell_type": "code",
   "execution_count": 15,
   "metadata": {},
   "outputs": [
    {
     "name": "stdout",
     "output_type": "stream",
     "text": [
      "tensorflow 2.1.0\n",
      "keras 2.3.1\n",
      "pandas 1.0.1\n",
      "matplotlib 3.1.3\n"
     ]
    }
   ],
   "source": [
    "import tensorflow as tf; print(\"tensorflow\", tf.__version__)\n",
    "import keras; print(\"keras\", keras.__version__)\n",
    "import pandas as pd; print(\"pandas\", pd.__version__)\n",
    "import matplotlib as mpl; print(\"matplotlib\", mpl.__version__)"
   ]
  },
  {
   "cell_type": "code",
   "execution_count": null,
   "metadata": {},
   "outputs": [],
   "source": []
  }
 ],
 "metadata": {
  "kernelspec": {
   "display_name": "Python 3",
   "language": "python",
   "name": "python3"
  },
  "language_info": {
   "codemirror_mode": {
    "name": "ipython",
    "version": 3
   },
   "file_extension": ".py",
   "mimetype": "text/x-python",
   "name": "python",
   "nbconvert_exporter": "python",
   "pygments_lexer": "ipython3",
   "version": "3.7.3"
  }
 },
 "nbformat": 4,
 "nbformat_minor": 4
}
